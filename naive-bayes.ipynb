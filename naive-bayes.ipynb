{
 "cells": [
  {
   "cell_type": "markdown",
   "id": "71c9bf5c",
   "metadata": {},
   "source": [
    "# Gaussian Naive Bayes"
   ]
  },
  {
   "cell_type": "code",
   "execution_count": 235,
   "id": "53882a60",
   "metadata": {},
   "outputs": [],
   "source": [
    "import pandas as pd\n",
    "from scipy.stats import norm\n",
    "\n",
    "class GNB:\n",
    "  def __predict(self, x):\n",
    "    probabilities = {}\n",
    "\n",
    "    for label in self.labels:\n",
    "      label_stats = self.posterior_matrix[label]\n",
    "      final_prob = 1\n",
    "\n",
    "      for feat_name in self.feature_names:\n",
    "        feat_x = x[feat_name]\n",
    "        mean = label_stats[feat_name]['mean']\n",
    "        std = label_stats[feat_name]['std']\n",
    "        dist = norm(mean, std)\n",
    "        prob = dist.pdf(feat_x)\n",
    "        final_prob = final_prob * prob\n",
    "\n",
    "      probabilities[label] = final_prob\n",
    "    \n",
    "    high = 0\n",
    "    best_label = 'error'\n",
    "\n",
    "    for key, value in probabilities.items():\n",
    "      if value > high:\n",
    "        high = value\n",
    "        best_label = key\n",
    "        \n",
    "    return best_label\n",
    "  \n",
    "  def fit(self, X_train, y_train):\n",
    "    self.X_train = X_train\n",
    "    self.y_train = y_train\n",
    "\n",
    "    self.labels = y_train.iloc[:, 0].unique()\n",
    "\n",
    "    self.feature_names = X_train.columns.tolist()\n",
    "    self.labels_name = y_train.columns.tolist()[0]\n",
    "\n",
    "    # Recontatenando o as features com as labels para fazer a filtragem depois\n",
    "    df = pd.concat([X_train, y_train], axis=1)\n",
    "    \n",
    "    self.posterior_matrix = {}\n",
    "\n",
    "    for label in self.labels:\n",
    "      filtered_features = df[ df[self.labels_name] == label ]\n",
    "      description = filtered_features.describe()\n",
    "      stats = description.head(3).iloc[1: , :]\n",
    "      self.posterior_matrix[label] = stats\n",
    "  \n",
    "  def predict(self, X):\n",
    "    results = []\n",
    "    for _, row in X.iterrows():\n",
    "      results.append(self.__predict(row))\n",
    "\n",
    "    return results\n",
    "    \n",
    "\n",
    "  "
   ]
  },
  {
   "cell_type": "markdown",
   "id": "1b4e30f6",
   "metadata": {},
   "source": [
    "# Data\n",
    "## The Pygoscelis Dataset\n",
    "The genus Pygoscelis (\"rump-legged\") contains three living species of penguins collectively known as \"brush-tailed penguins\".\n",
    "- Pygoscelis adeliae (Adélie penguin)\n",
    "- Pygoscelis antarctica (Chinstrap penguin)\n",
    "- Pygoscelis papua (Gentoo penguin)\n",
    "\n",
    "<!-- <img src=\"resources/Adelie_Penguin.jpg\" alt=\"Adélie penguin\" title=\"Pygoscelis adeliae\" /> -->"
   ]
  },
  {
   "cell_type": "code",
   "execution_count": 236,
   "id": "be408ebd",
   "metadata": {},
   "outputs": [],
   "source": [
    "import pandas as pd\n",
    "from sklearn.model_selection import train_test_split\n",
    "\n",
    "df = pd.read_csv(\"penguins.csv\")\n",
    "df = df[['Culmen Length (mm)', 'Culmen Depth (mm)', 'Flipper Length (mm)', 'Body Mass (g)', 'Species']]\n",
    "df = df.dropna()\n",
    "\n",
    "X = df[['Culmen Length (mm)', 'Culmen Depth (mm)', 'Flipper Length (mm)', 'Body Mass (g)']]\n",
    "y = df[['Species']]"
   ]
  },
  {
   "cell_type": "markdown",
   "id": "323c13a0",
   "metadata": {},
   "source": [
    "## Train-test splitting"
   ]
  },
  {
   "cell_type": "code",
   "execution_count": 237,
   "id": "c714c296",
   "metadata": {},
   "outputs": [],
   "source": [
    "from sklearn.model_selection import train_test_split\n",
    "\n",
    "X_train, X_test, y_train, y_test = train_test_split(X, y, test_size=0.3)"
   ]
  },
  {
   "cell_type": "markdown",
   "id": "9d3d096c",
   "metadata": {},
   "source": [
    "#### Minor testing"
   ]
  },
  {
   "cell_type": "code",
   "execution_count": 238,
   "id": "73076131",
   "metadata": {},
   "outputs": [
    {
     "data": {
      "text/html": [
       "<div>\n",
       "<style scoped>\n",
       "    .dataframe tbody tr th:only-of-type {\n",
       "        vertical-align: middle;\n",
       "    }\n",
       "\n",
       "    .dataframe tbody tr th {\n",
       "        vertical-align: top;\n",
       "    }\n",
       "\n",
       "    .dataframe thead th {\n",
       "        text-align: right;\n",
       "    }\n",
       "</style>\n",
       "<table border=\"1\" class=\"dataframe\">\n",
       "  <thead>\n",
       "    <tr style=\"text-align: right;\">\n",
       "      <th></th>\n",
       "      <th>Culmen Length (mm)</th>\n",
       "      <th>Culmen Depth (mm)</th>\n",
       "      <th>Flipper Length (mm)</th>\n",
       "      <th>Body Mass (g)</th>\n",
       "      <th>Species</th>\n",
       "    </tr>\n",
       "  </thead>\n",
       "  <tbody>\n",
       "    <tr>\n",
       "      <th>1</th>\n",
       "      <td>39.5</td>\n",
       "      <td>17.4</td>\n",
       "      <td>186.0</td>\n",
       "      <td>3800.0</td>\n",
       "      <td>Adelie Penguin (Pygoscelis adeliae)</td>\n",
       "    </tr>\n",
       "  </tbody>\n",
       "</table>\n",
       "</div>"
      ],
      "text/plain": [
       "   Culmen Length (mm)  Culmen Depth (mm)  Flipper Length (mm)  Body Mass (g)  \\\n",
       "1                39.5               17.4                186.0         3800.0   \n",
       "\n",
       "                               Species  \n",
       "1  Adelie Penguin (Pygoscelis adeliae)  "
      ]
     },
     "metadata": {},
     "output_type": "display_data"
    },
    {
     "data": {
      "text/plain": [
       "'Adelie Penguin (Pygoscelis adeliae)'"
      ]
     },
     "metadata": {},
     "output_type": "display_data"
    }
   ],
   "source": [
    "df = pd.concat([X_test, y_test], axis=1)\n",
    "\n",
    "sample = df.sample()\n",
    "display(sample)\n",
    "\n",
    "sample_label = sample.iat[0,4]\n",
    "display(sample_label)\n",
    "\n",
    "sample_feats = sample[['Culmen Length (mm)', 'Culmen Depth (mm)', 'Flipper Length (mm)', 'Body Mass (g)', 'Species']]"
   ]
  },
  {
   "cell_type": "code",
   "execution_count": 239,
   "id": "4bf26e1c",
   "metadata": {},
   "outputs": [],
   "source": [
    "gnb = GNB()\n",
    "gnb.fit(X_train, y_train)\n"
   ]
  },
  {
   "cell_type": "code",
   "execution_count": 240,
   "id": "21ef3f90",
   "metadata": {},
   "outputs": [
    {
     "name": "stdout",
     "output_type": "stream",
     "text": [
      "                                           precision    recall  f1-score   support\n",
      "\n",
      "      Adelie Penguin (Pygoscelis adeliae)       0.93      0.98      0.96        44\n",
      "Chinstrap penguin (Pygoscelis antarctica)       0.96      0.88      0.92        25\n",
      "        Gentoo penguin (Pygoscelis papua)       1.00      1.00      1.00        34\n",
      "\n",
      "                                 accuracy                           0.96       103\n",
      "                                macro avg       0.96      0.95      0.96       103\n",
      "                             weighted avg       0.96      0.96      0.96       103\n",
      "\n"
     ]
    }
   ],
   "source": [
    "from sklearn.metrics import classification_report\n",
    "\n",
    "y_pred = gnb.predict(X_test)\n",
    "\n",
    "print(classification_report(y_test, y_pred))"
   ]
  },
  {
   "cell_type": "code",
   "execution_count": 242,
   "id": "41610087",
   "metadata": {},
   "outputs": [
    {
     "data": {
      "image/png": "[encoded data removed]",
      "text/plain": [
       "<Figure size 640x480 with 2 Axes>"
      ]
     },
     "metadata": {},
     "output_type": "display_data"
    }
   ],
   "source": [
    "from sklearn.metrics import confusion_matrix, ConfusionMatrixDisplay\n",
    "import matplotlib.pyplot as plt\n",
    "\n",
    "cm = confusion_matrix(y_test, y_pred, labels=df['Species'].unique())\n",
    "disp = ConfusionMatrixDisplay(confusion_matrix=cm, display_labels=df['Species'].unique())\n",
    "disp.plot(xticks_rotation='vertical')\n",
    "plt.show()"
   ]
  },
  {
   "cell_type": "markdown",
   "id": "71fc5a64",
   "metadata": {},
   "source": [
    "# TESTING "
   ]
  },
  {
   "cell_type": "code",
   "execution_count": null,
   "id": "b4c5af24",
   "metadata": {},
   "outputs": [],
   "source": [
    "import matplotlib.pyplot as plt\n",
    "from scipy import stats\n",
    "import numpy as np\n",
    "\n",
    "X_colnames = ['Culmen Length (mm)', 'Culmen Depth (mm)', 'Flipper Length (mm)', 'Body Mass (g)']\n",
    "y_colname = 'Species'\n",
    "\n",
    "label_categories = df[y_colname].unique()\n",
    "display(label_categories)"
   ]
  },
  {
   "cell_type": "code",
   "execution_count": null,
   "id": "74c98ccf",
   "metadata": {
    "scrolled": false
   },
   "outputs": [],
   "source": [
    "# pdf = stats.norm.pdf(data, loc=loc, scale=scale)\n",
    "# from scipy.stats import norm\n",
    "# print(norm.cdf(x, mean, std))\n",
    "# data = X['Culmen Length (mm)']\n",
    "# mean = data.mean()\n",
    "# var = data.var()\n",
    "\n",
    "\n",
    "debug = False\n",
    "\n",
    "posterior_matrix = {}\n",
    "\n",
    "for label in label_categories:\n",
    "    species_filtered = df[ df['Species'] == label ]\n",
    "    species_filtered_desc = species_filtered.describe()\n",
    "    species_filtered_stats = species_filtered_desc.head(3).iloc[1: , :]\n",
    "    posterior_matrix[label] = species_filtered_stats\n",
    "\n",
    "    if debug:\n",
    "        print(label)\n",
    "        display(species_filtered)\n",
    "        display(species_filtered_desc)\n",
    "        display(species_filtered_stats)\n",
    "        print('------------------------------------------------')\n",
    "\n",
    "# display(posterior_matrix)\n",
    "\n",
    "# probabilities = [dist.pdf(value) for value in data]\n"
   ]
  },
  {
   "cell_type": "code",
   "execution_count": null,
   "id": "69b071ab",
   "metadata": {},
   "outputs": [],
   "source": [
    "\n"
   ]
  },
  {
   "cell_type": "code",
   "execution_count": null,
   "id": "85924d5c",
   "metadata": {},
   "outputs": [],
   "source": [
    "\n",
    "\n",
    "\n",
    "# display(stats_dict['Adelie Penguin (Pygoscelis adeliae)']['Culmen Length (mm)']['mean'])\n",
    "\n",
    "mean = posterior_matrix['Adelie Penguin (Pygoscelis adeliae)']['Culmen Length (mm)']['mean']\n",
    "std = posterior_matrix['Adelie Penguin (Pygoscelis adeliae)']['Culmen Length (mm)']['std']\n",
    "# display(mean)\n",
    "# display(std)\n",
    "\n",
    "culmen_length = 46.5\n",
    "culmen_depth = 17.9\n",
    "\n",
    "dist = norm(mean, std)\n",
    "# display(dist.pdf(culmen_length))\n",
    "\n",
    "specimen = {'Culmen Length (mm)': 46.5, 'Culmen Depth (mm)': 17.9, 'Flipper Length (mm)': 192.0, 'Body Mass (g)': 3500 }\n",
    "\n",
    "species_prob = {}\n",
    "\n",
    "for label in label_categories:\n",
    "  species_table = posterior_matrix[label]\n",
    "  final_prob = 1\n",
    "\n",
    "  for feat_name in X_colnames:\n",
    "    specimen_feat = specimen[feat_name]\n",
    "    mean = species_table[feat_name]['mean']\n",
    "    std = species_table[feat_name]['std']\n",
    "    dist = norm(mean, std)\n",
    "    prob = dist.pdf(specimen_feat)\n",
    "    final_prob *= prob\n",
    "\n",
    "  species_prob[label] = final_prob\n",
    "\n",
    "\n",
    "# display(species_prob)\n",
    "\n"
   ]
  }
 ],
 "metadata": {
  "kernelspec": {
   "display_name": "Python 3.8.10 64-bit",
   "language": "python",
   "name": "python3"
  },
  "language_info": {
   "codemirror_mode": {
    "name": "ipython",
    "version": 3
   },
   "file_extension": ".py",
   "mimetype": "text/x-python",
   "name": "python",
   "nbconvert_exporter": "python",
   "pygments_lexer": "ipython3",
   "version": "3.8.10"
  },
  "vscode": {
   "interpreter": {
    "hash": "916dbcbb3f70747c44a77c7bcd40155683ae19c65e1c03b4aa3499c5328201f1"
   }
  }
 },
 "nbformat": 4,
 "nbformat_minor": 5
}
